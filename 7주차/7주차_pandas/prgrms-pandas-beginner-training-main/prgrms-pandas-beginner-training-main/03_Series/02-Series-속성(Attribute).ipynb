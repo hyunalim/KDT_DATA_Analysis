{
 "cells": [
  {
   "cell_type": "markdown",
   "id": "8fb5e135",
   "metadata": {},
   "source": [
    "# Series 속성\n",
    "- https://pandas.pydata.org/docs/reference/api/pandas.Series.html"
   ]
  },
  {
   "cell_type": "code",
   "execution_count": 1,
   "id": "0ee8c027",
   "metadata": {},
   "outputs": [],
   "source": [
    "import pandas as pd"
   ]
  },
  {
   "cell_type": "code",
   "execution_count": 2,
   "id": "d3f2ed12",
   "metadata": {},
   "outputs": [
    {
     "data": {
      "text/plain": [
       "([1, 2, 3, 4, 5, 6], ['s', 'p', 'e', 'n', 'c', 'e', 'r'])"
      ]
     },
     "execution_count": 2,
     "metadata": {},
     "output_type": "execute_result"
    }
   ],
   "source": [
    "numbers = list(range(1, 7))\n",
    "letters = list(\"spencer\")\n",
    "numbers, letters"
   ]
  },
  {
   "cell_type": "code",
   "execution_count": 4,
   "id": "a817a847",
   "metadata": {},
   "outputs": [
    {
     "data": {
      "text/plain": [
       "0    1\n",
       "1    2\n",
       "2    3\n",
       "3    4\n",
       "4    5\n",
       "5    6\n",
       "dtype: int64"
      ]
     },
     "execution_count": 4,
     "metadata": {},
     "output_type": "execute_result"
    }
   ],
   "source": [
    "number_series = pd.Series(numbers)\n",
    "number_series"
   ]
  },
  {
   "cell_type": "code",
   "execution_count": 8,
   "id": "cb52909e",
   "metadata": {
    "scrolled": true
   },
   "outputs": [
    {
     "data": {
      "text/plain": [
       "0    s\n",
       "1    p\n",
       "2    e\n",
       "3    n\n",
       "4    c\n",
       "5    e\n",
       "6    r\n",
       "dtype: object"
      ]
     },
     "execution_count": 8,
     "metadata": {},
     "output_type": "execute_result"
    }
   ],
   "source": [
    "letters_series=pd.Series(letters)\n",
    "letters_series"
   ]
  },
  {
   "cell_type": "markdown",
   "id": "9a8478ad",
   "metadata": {},
   "source": [
    "## .dtype"
   ]
  },
  {
   "cell_type": "code",
   "execution_count": 6,
   "id": "269440ee",
   "metadata": {},
   "outputs": [
    {
     "data": {
      "text/plain": [
       "dtype('int64')"
      ]
     },
     "execution_count": 6,
     "metadata": {},
     "output_type": "execute_result"
    }
   ],
   "source": [
    "# dtype : 시리즈가 반환하는(담고있는) 데이터 타입\n",
    "number_series.dtype"
   ]
  },
  {
   "cell_type": "code",
   "execution_count": 9,
   "id": "010fda67",
   "metadata": {},
   "outputs": [
    {
     "data": {
      "text/plain": [
       "dtype('O')"
      ]
     },
     "execution_count": 9,
     "metadata": {},
     "output_type": "execute_result"
    }
   ],
   "source": [
    "letters_series.dtype #o는 object를 의미 -> 문자형"
   ]
  },
  {
   "cell_type": "markdown",
   "id": "6ee31bb8",
   "metadata": {},
   "source": [
    "- https://pandas.pydata.org/docs/user_guide/basics.html#basics-dtypes\n",
    "- 기본적으로 object에 표현할 수 있는 데이터는 int64, float64 등으로 표현된다.\n",
    "- '0'으로 dtype이 나온다면 object를 의미한다.\n",
    "\n",
    "**주로 보이는 dtype들**\n",
    "| dtype      | 설명                      |\n",
    "|------------|--------------------------|\n",
    "| int64      | 정수형 데이터               |\n",
    "| float64    | 실수형 데이터               |\n",
    "| object     | 문자열 데이터               |\n",
    "| bool       | 불리언(참/거짓) 데이터        |\n",
    "| datetime64 | 날짜 및 시간 데이터          |\n",
    "| timedelta  | 두 날짜 또는 시간 간격 데이터  |\n",
    "| category   | 카테고리 형식의 데이터        |\n",
    "| int8       | 8비트 정수형 데이터          |\n",
    "| int16      | 16비트 정수형 데이터         |\n",
    "| int32      | 32비트 정수형 데이터         |\n",
    "| float16    | 16비트 실수형 데이터         |\n",
    "| float32    | 32비트 실수형 데이터         |\n",
    "| complex64  | 64비트 복소수형 데이터        |\n",
    "| complex128 | 128비트 복소수형 데이터       |\n"
   ]
  },
  {
   "cell_type": "markdown",
   "id": "5d6eb7d8",
   "metadata": {},
   "source": [
    "## .index"
   ]
  },
  {
   "cell_type": "code",
   "execution_count": 11,
   "id": "43f1eb0f",
   "metadata": {
    "scrolled": true
   },
   "outputs": [
    {
     "data": {
      "text/plain": [
       "RangeIndex(start=0, stop=6, step=1)"
      ]
     },
     "execution_count": 11,
     "metadata": {},
     "output_type": "execute_result"
    }
   ],
   "source": [
    "number_series.index "
   ]
  },
  {
   "cell_type": "raw",
   "id": "cd1bf209",
   "metadata": {
    "scrolled": true
   },
   "source": []
  },
  {
   "cell_type": "markdown",
   "id": "8f9071d1",
   "metadata": {},
   "source": [
    ".index는 인덱스에 대한 정보를 준다."
   ]
  },
  {
   "cell_type": "markdown",
   "id": "e2c582fd",
   "metadata": {},
   "source": [
    "## .values"
   ]
  },
  {
   "cell_type": "code",
   "execution_count": 12,
   "id": "63ba9972",
   "metadata": {},
   "outputs": [
    {
     "data": {
      "text/plain": [
       "array([1, 2, 3, 4, 5, 6], dtype=int64)"
      ]
     },
     "execution_count": 12,
     "metadata": {},
     "output_type": "execute_result"
    }
   ],
   "source": [
    "number_series.values"
   ]
  },
  {
   "cell_type": "code",
   "execution_count": 14,
   "id": "22337025",
   "metadata": {
    "scrolled": true
   },
   "outputs": [
    {
     "data": {
      "text/plain": [
       "array(['s', 'p', 'e', 'n', 'c', 'e', 'r'], dtype=object)"
      ]
     },
     "execution_count": 14,
     "metadata": {},
     "output_type": "execute_result"
    }
   ],
   "source": [
    "letters_series.values"
   ]
  },
  {
   "cell_type": "markdown",
   "id": "1b9dc272",
   "metadata": {},
   "source": [
    ".values는 데이터를 배열(Array)로 반환한다."
   ]
  },
  {
   "cell_type": "markdown",
   "id": "7e69ab53",
   "metadata": {},
   "source": [
    "## .shape"
   ]
  },
  {
   "cell_type": "code",
   "execution_count": 15,
   "id": "8603da04",
   "metadata": {},
   "outputs": [
    {
     "data": {
      "text/plain": [
       "(6,)"
      ]
     },
     "execution_count": 15,
     "metadata": {},
     "output_type": "execute_result"
    }
   ],
   "source": [
    "number_series.shape"
   ]
  },
  {
   "cell_type": "code",
   "execution_count": 16,
   "id": "8142b0aa",
   "metadata": {
    "scrolled": true
   },
   "outputs": [
    {
     "data": {
      "text/plain": [
       "(7,)"
      ]
     },
     "execution_count": 16,
     "metadata": {},
     "output_type": "execute_result"
    }
   ],
   "source": [
    "letters_series.shape"
   ]
  },
  {
   "cell_type": "markdown",
   "id": "99d82e69",
   "metadata": {},
   "source": [
    ".shape는 데이터의 구조를 알 수 있으며, Series는 1차원 구조다."
   ]
  },
  {
   "cell_type": "markdown",
   "id": "0dac7517",
   "metadata": {},
   "source": [
    "## .size"
   ]
  },
  {
   "cell_type": "code",
   "execution_count": 17,
   "id": "54e9d7c7",
   "metadata": {},
   "outputs": [
    {
     "data": {
      "text/plain": [
       "6"
      ]
     },
     "execution_count": 17,
     "metadata": {},
     "output_type": "execute_result"
    }
   ],
   "source": [
    "number_series.size"
   ]
  },
  {
   "cell_type": "code",
   "execution_count": 18,
   "id": "7272b573",
   "metadata": {},
   "outputs": [
    {
     "data": {
      "text/plain": [
       "7"
      ]
     },
     "execution_count": 18,
     "metadata": {},
     "output_type": "execute_result"
    }
   ],
   "source": [
    "letters_series.size"
   ]
  },
  {
   "cell_type": "markdown",
   "id": "8e31f4db",
   "metadata": {},
   "source": [
    ".size는 데이터의 크기를 알 수 있다."
   ]
  },
  {
   "cell_type": "markdown",
   "id": "c4150238",
   "metadata": {},
   "source": [
    "## .hasnans"
   ]
  },
  {
   "cell_type": "code",
   "execution_count": 21,
   "id": "d60fc005",
   "metadata": {},
   "outputs": [
    {
     "data": {
      "text/plain": [
       "False"
      ]
     },
     "execution_count": 21,
     "metadata": {},
     "output_type": "execute_result"
    }
   ],
   "source": [
    "number_series.hasnans"
   ]
  },
  {
   "cell_type": "code",
   "execution_count": 23,
   "id": "49499068",
   "metadata": {},
   "outputs": [
    {
     "data": {
      "text/plain": [
       "False"
      ]
     },
     "execution_count": 23,
     "metadata": {},
     "output_type": "execute_result"
    }
   ],
   "source": [
    "letters_series.hasnans"
   ]
  },
  {
   "cell_type": "code",
   "execution_count": 24,
   "id": "61214340",
   "metadata": {},
   "outputs": [],
   "source": [
    "user = {\n",
    "    'name': 'Spencer',\n",
    "    'job': None\n",
    "}"
   ]
  },
  {
   "cell_type": "code",
   "execution_count": 25,
   "id": "7c88024d",
   "metadata": {},
   "outputs": [
    {
     "data": {
      "text/plain": [
       "name    Spencer\n",
       "job        None\n",
       "dtype: object"
      ]
     },
     "execution_count": 25,
     "metadata": {},
     "output_type": "execute_result"
    }
   ],
   "source": [
    "user_series=pd.Series(user)\n",
    "user_series"
   ]
  },
  {
   "cell_type": "code",
   "execution_count": 26,
   "id": "1748e151",
   "metadata": {},
   "outputs": [
    {
     "data": {
      "text/plain": [
       "True"
      ]
     },
     "execution_count": 26,
     "metadata": {},
     "output_type": "execute_result"
    }
   ],
   "source": [
    "user_series.hasnans"
   ]
  },
  {
   "cell_type": "markdown",
   "id": "28d7053a",
   "metadata": {},
   "source": [
    ".hasnan은 None이나 NaN같은 결측치(Missing Data)가 있는지 확인한다."
   ]
  }
 ],
 "metadata": {
  "kernelspec": {
   "display_name": "Python 3 (ipykernel)",
   "language": "python",
   "name": "python3"
  },
  "language_info": {
   "codemirror_mode": {
    "name": "ipython",
    "version": 3
   },
   "file_extension": ".py",
   "mimetype": "text/x-python",
   "name": "python",
   "nbconvert_exporter": "python",
   "pygments_lexer": "ipython3",
   "version": "3.9.12"
  }
 },
 "nbformat": 4,
 "nbformat_minor": 5
}
