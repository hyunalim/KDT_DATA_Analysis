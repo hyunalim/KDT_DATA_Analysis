{
 "cells": [
  {
   "cell_type": "markdown",
   "id": "f58657fc",
   "metadata": {},
   "source": [
    "## Pandas를 참조합시다. (별칭 부여해서)"
   ]
  },
  {
   "cell_type": "code",
   "execution_count": 41,
   "id": "65f31da0",
   "metadata": {},
   "outputs": [],
   "source": [
    "import pandas as pd"
   ]
  },
  {
   "cell_type": "markdown",
   "id": "ac243ce6",
   "metadata": {},
   "source": [
    "## 데이터를 읽어옵니다. 1\n",
    "- TopRichestInWorld.csv"
   ]
  },
  {
   "cell_type": "code",
   "execution_count": 3,
   "id": "d7cf847c",
   "metadata": {},
   "outputs": [
    {
     "data": {
      "text/html": [
       "<div>\n",
       "<style scoped>\n",
       "    .dataframe tbody tr th:only-of-type {\n",
       "        vertical-align: middle;\n",
       "    }\n",
       "\n",
       "    .dataframe tbody tr th {\n",
       "        vertical-align: top;\n",
       "    }\n",
       "\n",
       "    .dataframe thead th {\n",
       "        text-align: right;\n",
       "    }\n",
       "</style>\n",
       "<table border=\"1\" class=\"dataframe\">\n",
       "  <thead>\n",
       "    <tr style=\"text-align: right;\">\n",
       "      <th></th>\n",
       "      <th>Name</th>\n",
       "      <th>NetWorth</th>\n",
       "      <th>Age</th>\n",
       "      <th>Country/Territory</th>\n",
       "      <th>Source</th>\n",
       "      <th>Industry</th>\n",
       "    </tr>\n",
       "  </thead>\n",
       "  <tbody>\n",
       "    <tr>\n",
       "      <th>0</th>\n",
       "      <td>Elon Musk</td>\n",
       "      <td>$219,000,000,000</td>\n",
       "      <td>50</td>\n",
       "      <td>United States</td>\n",
       "      <td>Tesla, SpaceX</td>\n",
       "      <td>Automotive</td>\n",
       "    </tr>\n",
       "    <tr>\n",
       "      <th>1</th>\n",
       "      <td>Jeff Bezos</td>\n",
       "      <td>$171,000,000,000</td>\n",
       "      <td>58</td>\n",
       "      <td>United States</td>\n",
       "      <td>Amazon</td>\n",
       "      <td>Technology</td>\n",
       "    </tr>\n",
       "    <tr>\n",
       "      <th>2</th>\n",
       "      <td>Bernard Arnault &amp; family</td>\n",
       "      <td>$158,000,000,000</td>\n",
       "      <td>73</td>\n",
       "      <td>France</td>\n",
       "      <td>LVMH</td>\n",
       "      <td>Fashion &amp; Retail</td>\n",
       "    </tr>\n",
       "    <tr>\n",
       "      <th>3</th>\n",
       "      <td>Bill Gates</td>\n",
       "      <td>$129,000,000,000</td>\n",
       "      <td>66</td>\n",
       "      <td>United States</td>\n",
       "      <td>Microsoft</td>\n",
       "      <td>Technology</td>\n",
       "    </tr>\n",
       "    <tr>\n",
       "      <th>4</th>\n",
       "      <td>Warren Buffett</td>\n",
       "      <td>$118,000,000,000</td>\n",
       "      <td>91</td>\n",
       "      <td>United States</td>\n",
       "      <td>Berkshire Hathaway</td>\n",
       "      <td>Finance &amp; Investments</td>\n",
       "    </tr>\n",
       "    <tr>\n",
       "      <th>...</th>\n",
       "      <td>...</td>\n",
       "      <td>...</td>\n",
       "      <td>...</td>\n",
       "      <td>...</td>\n",
       "      <td>...</td>\n",
       "      <td>...</td>\n",
       "    </tr>\n",
       "    <tr>\n",
       "      <th>96</th>\n",
       "      <td>Vladimir Potanin</td>\n",
       "      <td>$17,300,000,000</td>\n",
       "      <td>61</td>\n",
       "      <td>Russia</td>\n",
       "      <td>metals</td>\n",
       "      <td>Metals &amp; Mining</td>\n",
       "    </tr>\n",
       "    <tr>\n",
       "      <th>97</th>\n",
       "      <td>Harold Hamm &amp; family</td>\n",
       "      <td>$17,200,000,000</td>\n",
       "      <td>76</td>\n",
       "      <td>United States</td>\n",
       "      <td>oil &amp; gas</td>\n",
       "      <td>Energy</td>\n",
       "    </tr>\n",
       "    <tr>\n",
       "      <th>98</th>\n",
       "      <td>Sun Piaoyang</td>\n",
       "      <td>$17,100,000,000</td>\n",
       "      <td>63</td>\n",
       "      <td>China</td>\n",
       "      <td>pharmaceuticals</td>\n",
       "      <td>Healthcare</td>\n",
       "    </tr>\n",
       "    <tr>\n",
       "      <th>99</th>\n",
       "      <td>Luo Liguo &amp; family</td>\n",
       "      <td>$17,000,000,000</td>\n",
       "      <td>66</td>\n",
       "      <td>China</td>\n",
       "      <td>chemicals</td>\n",
       "      <td>Manufacturing</td>\n",
       "    </tr>\n",
       "    <tr>\n",
       "      <th>100</th>\n",
       "      <td>Peter Woo</td>\n",
       "      <td>$17,000,000,000</td>\n",
       "      <td>75</td>\n",
       "      <td>Hong Kong</td>\n",
       "      <td>real estate</td>\n",
       "      <td>Real Estate</td>\n",
       "    </tr>\n",
       "  </tbody>\n",
       "</table>\n",
       "<p>101 rows × 6 columns</p>\n",
       "</div>"
      ],
      "text/plain": [
       "                         Name          NetWorth  Age Country/Territory  \\\n",
       "0                   Elon Musk  $219,000,000,000   50     United States   \n",
       "1                  Jeff Bezos  $171,000,000,000   58     United States   \n",
       "2    Bernard Arnault & family  $158,000,000,000   73            France   \n",
       "3                  Bill Gates  $129,000,000,000   66     United States   \n",
       "4              Warren Buffett  $118,000,000,000   91     United States   \n",
       "..                        ...               ...  ...               ...   \n",
       "96           Vladimir Potanin   $17,300,000,000   61            Russia   \n",
       "97       Harold Hamm & family   $17,200,000,000   76     United States   \n",
       "98               Sun Piaoyang   $17,100,000,000   63             China   \n",
       "99         Luo Liguo & family   $17,000,000,000   66             China   \n",
       "100                 Peter Woo   $17,000,000,000   75         Hong Kong   \n",
       "\n",
       "                 Source               Industry  \n",
       "0         Tesla, SpaceX             Automotive  \n",
       "1                Amazon             Technology  \n",
       "2                  LVMH       Fashion & Retail  \n",
       "3             Microsoft             Technology  \n",
       "4    Berkshire Hathaway  Finance & Investments  \n",
       "..                  ...                    ...  \n",
       "96               metals        Metals & Mining  \n",
       "97            oil & gas                 Energy  \n",
       "98      pharmaceuticals             Healthcare  \n",
       "99            chemicals          Manufacturing  \n",
       "100         real estate            Real Estate  \n",
       "\n",
       "[101 rows x 6 columns]"
      ]
     },
     "execution_count": 3,
     "metadata": {},
     "output_type": "execute_result"
    }
   ],
   "source": [
    "df = pd.read_csv('TopRichestInWorld.csv')\n",
    "df"
   ]
  },
  {
   "cell_type": "markdown",
   "id": "577317cd",
   "metadata": {},
   "source": [
    "## 데이터를 읽어옵니다.2\n",
    "- TopRichestInWorld.csv\n",
    "- Industry 열만 사용하고\n",
    "- 시리즈화 시키자."
   ]
  },
  {
   "cell_type": "code",
   "execution_count": 9,
   "id": "4b45a173",
   "metadata": {},
   "outputs": [
    {
     "data": {
      "text/plain": [
       "0                 Automotive\n",
       "1                 Technology\n",
       "2           Fashion & Retail\n",
       "3                 Technology\n",
       "4      Finance & Investments\n",
       "               ...          \n",
       "96           Metals & Mining\n",
       "97                    Energy\n",
       "98                Healthcare\n",
       "99             Manufacturing\n",
       "100              Real Estate\n",
       "Name: Industry, Length: 101, dtype: object"
      ]
     },
     "execution_count": 9,
     "metadata": {},
     "output_type": "execute_result"
    }
   ],
   "source": [
    "df_industry = pd.read_csv('TopRichestInWorld.csv',usecols=['Industry']).squeeze()\n",
    "df_industry"
   ]
  },
  {
   "cell_type": "markdown",
   "id": "a9de8be3",
   "metadata": {},
   "source": [
    "## 데이터를 읽어옵시다. 3\n",
    "- TopRichestInWorld.csv\n",
    "- col은 Age열 정보를 사용하고\n",
    "- index는 Name열 정보를 사용하고\n",
    "- 데이터를 시리즈화 시키자."
   ]
  },
  {
   "cell_type": "code",
   "execution_count": 20,
   "id": "e30812b4",
   "metadata": {},
   "outputs": [
    {
     "data": {
      "text/plain": [
       "Name\n",
       "Elon Musk                   50\n",
       "Jeff Bezos                  58\n",
       "Bernard Arnault & family    73\n",
       "Bill Gates                  66\n",
       "Warren Buffett              91\n",
       "                            ..\n",
       "Vladimir Potanin            61\n",
       "Harold Hamm & family        76\n",
       "Sun Piaoyang                63\n",
       "Luo Liguo & family          66\n",
       "Peter Woo                   75\n",
       "Name: Age, Length: 101, dtype: int64"
      ]
     },
     "execution_count": 20,
     "metadata": {},
     "output_type": "execute_result"
    }
   ],
   "source": [
    "df_age = pd.read_csv('TopRichestInWorld.csv',\n",
    "                     usecols=['Age','Name'],\n",
    "                    index_col='Name').squeeze()\n",
    "df_age"
   ]
  },
  {
   "cell_type": "markdown",
   "id": "2e61e3e7",
   "metadata": {},
   "source": [
    "## 평균 나이가 어떻게 되나요? 1"
   ]
  },
  {
   "cell_type": "code",
   "execution_count": 26,
   "id": "8a8834ec",
   "metadata": {},
   "outputs": [
    {
     "data": {
      "text/plain": [
       "67.11881188118812"
      ]
     },
     "execution_count": 26,
     "metadata": {},
     "output_type": "execute_result"
    }
   ],
   "source": [
    "df_age.mean()"
   ]
  },
  {
   "cell_type": "markdown",
   "id": "0a411709",
   "metadata": {},
   "source": [
    "## 평균 나이가 어떻게 되나요? 2\n",
    "- 소수점 1자리까지 반올림 합니다."
   ]
  },
  {
   "cell_type": "code",
   "execution_count": 44,
   "id": "6d4b4b10",
   "metadata": {},
   "outputs": [
    {
     "ename": "AttributeError",
     "evalue": "'float' object has no attribute 'round'",
     "output_type": "error",
     "traceback": [
      "\u001b[1;31m---------------------------------------------------------------------------\u001b[0m",
      "\u001b[1;31mAttributeError\u001b[0m                            Traceback (most recent call last)",
      "Input \u001b[1;32mIn [44]\u001b[0m, in \u001b[0;36m<cell line: 1>\u001b[1;34m()\u001b[0m\n\u001b[1;32m----> 1\u001b[0m \u001b[43mdf_age\u001b[49m\u001b[38;5;241;43m.\u001b[39;49m\u001b[43mmean\u001b[49m\u001b[43m(\u001b[49m\u001b[43m)\u001b[49m\u001b[38;5;241;43m.\u001b[39;49m\u001b[43mround\u001b[49m(\u001b[38;5;241m1\u001b[39m)\n",
      "\u001b[1;31mAttributeError\u001b[0m: 'float' object has no attribute 'round'"
     ]
    }
   ],
   "source": [
    "df_age.mean().round(1)"
   ]
  },
  {
   "cell_type": "markdown",
   "id": "297ce16e",
   "metadata": {},
   "source": [
    "## 누가 가장 어리나요? \n",
    "- 코드로 그 사람 이름이 나오도록 해봅시다.\n",
    "- 정렬을 사용하지 말고, 바로 지원하는 메소드를 생각해봅시다.\n",
    "- 힌트 : 현재 index에는 이름이 저장되어있습니다. 때문에 나이가 어린 사람의 인덱스를 찾는다면 이름이 나오는 거겠죠?"
   ]
  },
  {
   "cell_type": "code",
   "execution_count": 54,
   "id": "5cb7b625",
   "metadata": {},
   "outputs": [
    {
     "data": {
      "text/plain": [
       "'Sam Bankman-Fried'"
      ]
     },
     "execution_count": 54,
     "metadata": {},
     "output_type": "execute_result"
    }
   ],
   "source": [
    "df_age.sort_values(ascending=True).index[0]"
   ]
  },
  {
   "cell_type": "markdown",
   "id": "cb350366",
   "metadata": {},
   "source": [
    "## 누가 가장 나이가 많나요? \n",
    "- 코드로 그 사람 이름이 나오도록 해봅시다."
   ]
  },
  {
   "cell_type": "code",
   "execution_count": 57,
   "id": "7878b004",
   "metadata": {},
   "outputs": [
    {
     "data": {
      "text/plain": [
       "'Lee Shau Kee'"
      ]
     },
     "execution_count": 57,
     "metadata": {},
     "output_type": "execute_result"
    }
   ],
   "source": [
    "df_age.sort_values(ascending=False).index[0]"
   ]
  },
  {
   "cell_type": "markdown",
   "id": "b4f0bcbe",
   "metadata": {},
   "source": [
    "## 어린 순으로 정렬해봅시다."
   ]
  },
  {
   "cell_type": "code",
   "execution_count": 65,
   "id": "72506dba",
   "metadata": {
    "scrolled": true
   },
   "outputs": [
    {
     "data": {
      "text/plain": [
       "Name\n",
       "Sam Bankman-Fried          30\n",
       "Mark Zuckerberg            37\n",
       "Zhang Yiming               38\n",
       "Yang Huiyan & family       40\n",
       "Guillaume Pousaz           40\n",
       "                           ..\n",
       "Leonard Lauder             89\n",
       "Rupert Murdoch & family    91\n",
       "Warren Buffett             91\n",
       "Li Ka-shing                93\n",
       "Lee Shau Kee               94\n",
       "Name: Age, Length: 101, dtype: int64"
      ]
     },
     "execution_count": 65,
     "metadata": {},
     "output_type": "execute_result"
    }
   ],
   "source": [
    "df_age.sort_values(ascending=True)"
   ]
  },
  {
   "cell_type": "markdown",
   "id": "d386bada",
   "metadata": {},
   "source": [
    "## 나이 분포가 어떻게 되나요? 1\n",
    "- 5개로 구분하며\n",
    "- 몇 명인지를 파악합시다.\n",
    "- 비중이 높은 순으로 내림차순 합니다."
   ]
  },
  {
   "cell_type": "code",
   "execution_count": 60,
   "id": "ae020076",
   "metadata": {},
   "outputs": [
    {
     "data": {
      "text/plain": [
       "(55.6, 68.4]      33\n",
       "(68.4, 81.2]      27\n",
       "(81.2, 94.0]      19\n",
       "(42.8, 55.6]      17\n",
       "(29.935, 42.8]     5\n",
       "Name: Age, dtype: int64"
      ]
     },
     "execution_count": 60,
     "metadata": {},
     "output_type": "execute_result"
    }
   ],
   "source": [
    "df_age.value_counts(bins=5)"
   ]
  },
  {
   "cell_type": "markdown",
   "id": "f4a1f539",
   "metadata": {},
   "source": [
    "## 나이 분포가 어떻게 되나요? 2\n",
    "- 5개로 구분하며\n",
    "- 퍼센트 비중으로 어떠한지 파악합시다.\n",
    "- 비중이 높은 순으로 내림차순 합니다."
   ]
  },
  {
   "cell_type": "code",
   "execution_count": 61,
   "id": "875a1cf1",
   "metadata": {},
   "outputs": [
    {
     "data": {
      "text/plain": [
       "(55.6, 68.4]      0.326733\n",
       "(68.4, 81.2]      0.267327\n",
       "(81.2, 94.0]      0.188119\n",
       "(42.8, 55.6]      0.168317\n",
       "(29.935, 42.8]    0.049505\n",
       "Name: Age, dtype: float64"
      ]
     },
     "execution_count": 61,
     "metadata": {},
     "output_type": "execute_result"
    }
   ],
   "source": [
    "df_age.value_counts(bins=5, normalize=True)"
   ]
  },
  {
   "cell_type": "markdown",
   "id": "794eb450",
   "metadata": {},
   "source": [
    "## 나이가 어린 순으로 새로운 csv를 저장합시다.\n",
    "- 파일 이름은 TopYoungestAndRichiInWorld.csv"
   ]
  },
  {
   "cell_type": "code",
   "execution_count": 92,
   "id": "9662383a",
   "metadata": {},
   "outputs": [],
   "source": [
    "df_set=df_age.sort_values().to_csv('TopYoungestAndRichiInWorld.csv')"
   ]
  },
  {
   "cell_type": "markdown",
   "id": "cde4da3c",
   "metadata": {},
   "source": [
    "## 제대로 저장되었는지 데이터 확인해봅시다."
   ]
  },
  {
   "cell_type": "code",
   "execution_count": 95,
   "id": "a07bd895",
   "metadata": {},
   "outputs": [
    {
     "data": {
      "text/html": [
       "<div>\n",
       "<style scoped>\n",
       "    .dataframe tbody tr th:only-of-type {\n",
       "        vertical-align: middle;\n",
       "    }\n",
       "\n",
       "    .dataframe tbody tr th {\n",
       "        vertical-align: top;\n",
       "    }\n",
       "\n",
       "    .dataframe thead th {\n",
       "        text-align: right;\n",
       "    }\n",
       "</style>\n",
       "<table border=\"1\" class=\"dataframe\">\n",
       "  <thead>\n",
       "    <tr style=\"text-align: right;\">\n",
       "      <th></th>\n",
       "      <th>Name</th>\n",
       "      <th>Age</th>\n",
       "    </tr>\n",
       "  </thead>\n",
       "  <tbody>\n",
       "    <tr>\n",
       "      <th>0</th>\n",
       "      <td>Sam Bankman-Fried</td>\n",
       "      <td>30</td>\n",
       "    </tr>\n",
       "    <tr>\n",
       "      <th>1</th>\n",
       "      <td>Mark Zuckerberg</td>\n",
       "      <td>37</td>\n",
       "    </tr>\n",
       "    <tr>\n",
       "      <th>2</th>\n",
       "      <td>Zhang Yiming</td>\n",
       "      <td>38</td>\n",
       "    </tr>\n",
       "    <tr>\n",
       "      <th>3</th>\n",
       "      <td>Yang Huiyan &amp; family</td>\n",
       "      <td>40</td>\n",
       "    </tr>\n",
       "    <tr>\n",
       "      <th>4</th>\n",
       "      <td>Guillaume Pousaz</td>\n",
       "      <td>40</td>\n",
       "    </tr>\n",
       "    <tr>\n",
       "      <th>...</th>\n",
       "      <td>...</td>\n",
       "      <td>...</td>\n",
       "    </tr>\n",
       "    <tr>\n",
       "      <th>96</th>\n",
       "      <td>Leonard Lauder</td>\n",
       "      <td>89</td>\n",
       "    </tr>\n",
       "    <tr>\n",
       "      <th>97</th>\n",
       "      <td>Rupert Murdoch &amp; family</td>\n",
       "      <td>91</td>\n",
       "    </tr>\n",
       "    <tr>\n",
       "      <th>98</th>\n",
       "      <td>Warren Buffett</td>\n",
       "      <td>91</td>\n",
       "    </tr>\n",
       "    <tr>\n",
       "      <th>99</th>\n",
       "      <td>Li Ka-shing</td>\n",
       "      <td>93</td>\n",
       "    </tr>\n",
       "    <tr>\n",
       "      <th>100</th>\n",
       "      <td>Lee Shau Kee</td>\n",
       "      <td>94</td>\n",
       "    </tr>\n",
       "  </tbody>\n",
       "</table>\n",
       "<p>101 rows × 2 columns</p>\n",
       "</div>"
      ],
      "text/plain": [
       "                        Name  Age\n",
       "0          Sam Bankman-Fried   30\n",
       "1            Mark Zuckerberg   37\n",
       "2               Zhang Yiming   38\n",
       "3       Yang Huiyan & family   40\n",
       "4           Guillaume Pousaz   40\n",
       "..                       ...  ...\n",
       "96            Leonard Lauder   89\n",
       "97   Rupert Murdoch & family   91\n",
       "98            Warren Buffett   91\n",
       "99               Li Ka-shing   93\n",
       "100             Lee Shau Kee   94\n",
       "\n",
       "[101 rows x 2 columns]"
      ]
     },
     "execution_count": 95,
     "metadata": {},
     "output_type": "execute_result"
    }
   ],
   "source": [
    "data = pd.read_csv('TopYoungestAndRichiInWorld.csv')\n",
    "data"
   ]
  },
  {
   "cell_type": "code",
   "execution_count": null,
   "id": "9a5097df",
   "metadata": {},
   "outputs": [],
   "source": []
  }
 ],
 "metadata": {
  "kernelspec": {
   "display_name": "Python 3 (ipykernel)",
   "language": "python",
   "name": "python3"
  },
  "language_info": {
   "codemirror_mode": {
    "name": "ipython",
    "version": 3
   },
   "file_extension": ".py",
   "mimetype": "text/x-python",
   "name": "python",
   "nbconvert_exporter": "python",
   "pygments_lexer": "ipython3",
   "version": "3.9.12"
  }
 },
 "nbformat": 4,
 "nbformat_minor": 5
}
